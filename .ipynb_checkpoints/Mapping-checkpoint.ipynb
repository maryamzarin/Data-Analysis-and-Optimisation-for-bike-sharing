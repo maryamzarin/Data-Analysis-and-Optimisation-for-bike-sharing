{
 "cells": [
  {
   "cell_type": "code",
   "execution_count": 1,
   "id": "b7456856",
   "metadata": {},
   "outputs": [
    {
     "ename": "ModuleNotFoundError",
     "evalue": "No module named 'geopandas'",
     "output_type": "error",
     "traceback": [
      "\u001b[1;31m---------------------------------------------------------------------------\u001b[0m",
      "\u001b[1;31mModuleNotFoundError\u001b[0m                       Traceback (most recent call last)",
      "\u001b[1;32m~\\AppData\\Local\\Temp\\ipykernel_25088\\1308551490.py\u001b[0m in \u001b[0;36m<module>\u001b[1;34m\u001b[0m\n\u001b[0;32m      1\u001b[0m \u001b[1;32mimport\u001b[0m \u001b[0mpandas\u001b[0m \u001b[1;32mas\u001b[0m \u001b[0mpd\u001b[0m\u001b[1;33m\u001b[0m\u001b[1;33m\u001b[0m\u001b[0m\n\u001b[1;32m----> 2\u001b[1;33m \u001b[1;32mimport\u001b[0m \u001b[0mgeopandas\u001b[0m \u001b[1;32mas\u001b[0m \u001b[0mgpd\u001b[0m\u001b[1;33m\u001b[0m\u001b[1;33m\u001b[0m\u001b[0m\n\u001b[0m\u001b[0;32m      3\u001b[0m \u001b[1;32mfrom\u001b[0m \u001b[0mgeopandas\u001b[0m \u001b[1;32mimport\u001b[0m \u001b[0mGeoDataFrame\u001b[0m\u001b[1;33m\u001b[0m\u001b[1;33m\u001b[0m\u001b[0m\n\u001b[0;32m      4\u001b[0m \u001b[1;32mfrom\u001b[0m \u001b[0mshapely\u001b[0m\u001b[1;33m.\u001b[0m\u001b[0mgeometry\u001b[0m \u001b[1;32mimport\u001b[0m \u001b[0mPoint\u001b[0m\u001b[1;33m\u001b[0m\u001b[1;33m\u001b[0m\u001b[0m\n\u001b[0;32m      5\u001b[0m \u001b[1;33m\u001b[0m\u001b[0m\n",
      "\u001b[1;31mModuleNotFoundError\u001b[0m: No module named 'geopandas'"
     ]
    }
   ],
   "source": [
    "import pandas as pd\n",
    "import geopandas as gpd\n",
    "from geopandas import GeoDataFrame\n",
    "from shapely.geometry import Point\n",
    "\n",
    "from ipynb.fs.full.Process_Demand import getDFfromCSV\n",
    "print(\"imported\")"
   ]
  },
  {
   "cell_type": "code",
   "execution_count": null,
   "id": "0109ae70",
   "metadata": {},
   "outputs": [],
   "source": [
    "stationInfoDF = getDFfromCSV(\"Cycle hire docking stations.csv\")\n",
    "stationInfoDF"
   ]
  },
  {
   "cell_type": "code",
   "execution_count": null,
   "id": "85d47e32",
   "metadata": {},
   "outputs": [],
   "source": [
    "stationCoordsDF = stationInfoDF[[\"StationId\", \"StationName\", \"longitude\", \"latitude\"]]\n",
    "stationInfoDF[\"latitude\"] = pd.to_numeric(stationInfoDF[\"latitude\"])\n",
    "stationInfoDF[\"longitude\"] = pd.to_numeric(stationInfoDF[\"longitude\"])\n",
    "stationCoordsDF"
   ]
  },
  {
   "cell_type": "code",
   "execution_count": null,
   "id": "d552bc82",
   "metadata": {},
   "outputs": [],
   "source": [
    "import folium\n",
    "\n",
    "londonMap = folium.Map(location= \n",
    "                       [stationCoordsDF.latitude.mean(), \n",
    "                        stationCoordsDF.longitude.mean()],\n",
    "                      zoom_start = 15, control_scale=True)\n",
    "\n",
    "for index,row in stationCoordsDF.iterrows():\n",
    "    folium.Marker(location=[row.latitude, row.longitude],\n",
    "                     popup=row.StationName).add_to(londonMap)\n",
    "\n",
    "\n",
    "londonMap "
   ]
  }
 ],
 "metadata": {
  "kernelspec": {
   "display_name": "Python 3 (ipykernel)",
   "language": "python",
   "name": "python3"
  },
  "language_info": {
   "codemirror_mode": {
    "name": "ipython",
    "version": 3
   },
   "file_extension": ".py",
   "mimetype": "text/x-python",
   "name": "python",
   "nbconvert_exporter": "python",
   "pygments_lexer": "ipython3",
   "version": "3.9.13"
  }
 },
 "nbformat": 4,
 "nbformat_minor": 5
}
